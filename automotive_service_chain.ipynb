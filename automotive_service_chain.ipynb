{
  "nbformat": 4,
  "nbformat_minor": 0,
  "metadata": {
    "colab": {
      "provenance": [],
      "authorship_tag": "ABX9TyMc1YvkcP7bTGDdPBxxHhBZ",
      "include_colab_link": true
    },
    "kernelspec": {
      "name": "python3",
      "display_name": "Python 3"
    },
    "language_info": {
      "name": "python"
    }
  },
  "cells": [
    {
      "cell_type": "markdown",
      "metadata": {
        "id": "view-in-github",
        "colab_type": "text"
      },
      "source": [
        "<a href=\"https://colab.research.google.com/github/aksshiny/python-for-data-science-NPTEL/blob/main/automotive_service_chain.ipynb\" target=\"_parent\"><img src=\"https://colab.research.google.com/assets/colab-badge.svg\" alt=\"Open In Colab\"/></a>"
      ]
    },
    {
      "cell_type": "markdown",
      "source": [
        "To save the day for the new service station, the data scientist can perform the following steps:\n",
        "\n",
        "Import the required packages for data analysis, such as Pandas, NumPy, and Scikit-learn.\n",
        "\n",
        "Read the datasets ‘ServiceTrain.csv’ and ‘ServiceTest.csv’ as train and test data, respectively, using the Pandas read_csv method.\n",
        "\n",
        "Explore the data using Pandas methods such as head(), describe(), and info(). This will give an idea about the distribution of the data and any missing or incorrect values that need to be cleaned or handled.\n",
        "\n",
        "Pre-process the data to handle missing or incorrect values, convert categorical variables into numerical variables, and normalize the data if necessary.\n",
        "\n",
        "Split the train data into training and validation datasets using train_test_split method from Scikit-learn.\n",
        "\n",
        "Train different machine learning models, such as Logistic Regression, Decision Tree, Random Forest, etc., on the training data and evaluate their performance on the validation data using metrics such as accuracy, precision, recall, and F1 score.\n",
        "\n",
        "Select the model with the highest accuracy and perform hyperparameter tuning to further improve its performance.\n",
        "\n",
        "Use the selected model to make predictions on the test data and evaluate its performance using metrics such as accuracy, precision, recall, and F1 score.\n",
        "\n",
        "Finally, use the selected model to predict whether the cars require service or not based on the attributes measured for the cars that the service station was unable to check in detail.\n",
        "\n",
        "This solution will help the new service station to identify the cars that require service among the 450 cars that arrived on their launch day, based on the attributes measured for the cars.\n",
        "\n",
        "\n",
        "\n",
        "Regenerate response"
      ],
      "metadata": {
        "id": "eUf0yrVM0Tji"
      }
    },
    {
      "cell_type": "code",
      "source": [
        "import numpy as np\n",
        "import matplotlib as plt\n",
        "import sklearn as skl\n",
        "import pandas as pd"
      ],
      "metadata": {
        "id": "jXjVZDU20Yt6"
      },
      "execution_count": 5,
      "outputs": []
    },
    {
      "cell_type": "code",
      "source": [
        "from google.colab import drive\n",
        "drive.mount('/content/drive')"
      ],
      "metadata": {
        "colab": {
          "base_uri": "https://localhost:8080/"
        },
        "id": "kYBTiByn1MXk",
        "outputId": "05bc8a87-8b3e-486a-ed75-2fcc601d6bf9"
      },
      "execution_count": 3,
      "outputs": [
        {
          "output_type": "stream",
          "name": "stdout",
          "text": [
            "Mounted at /content/drive\n"
          ]
        }
      ]
    },
    {
      "cell_type": "code",
      "source": [
        "# Load the data into a Pandas dataframe\n",
        "train_df = pd.read_csv(\"/content/drive/MyDrive/Colab Notebooks/python for DS -NPTEL/ServiceTrain.csv\")\n",
        "test_df = pd.read_csv(\"/content/drive/MyDrive/Colab Notebooks/python for DS -NPTEL/ServiceTest.csv\")\n"
      ],
      "metadata": {
        "id": "VMdrvuVe1Y7h"
      },
      "execution_count": 24,
      "outputs": []
    },
    {
      "cell_type": "code",
      "source": [
        "# Check the first few rows of the data\n",
        "print(train_df.head())\n",
        "print(test_df.head())"
      ],
      "metadata": {
        "colab": {
          "base_uri": "https://localhost:8080/"
        },
        "id": "mQkQ2x5i2JRZ",
        "outputId": "31f3ce35-c693-47ad-e7ec-0838d0ecdab4"
      },
      "execution_count": 25,
      "outputs": [
        {
          "output_type": "stream",
          "name": "stdout",
          "text": [
            "      OilQual  EnginePerf  NormMileage    TyreWear    HVACwear Service\n",
            "0  103.388821  103.504032   103.051485  106.172658  105.686843      No\n",
            "1   26.765516   26.188265    31.259536   29.186162   31.311275     Yes\n",
            "2   62.413282   63.681061    59.720883   64.704031   58.620518     Yes\n",
            "3   45.533338   49.906615    48.777581   48.113851   47.952072      No\n",
            "4  104.388821  103.284032   103.051485  105.822658  106.536843      No\n",
            "      OilQual  EnginePerf  NormMileage    TyreWear    HVACwear Service\n",
            "0   45.773338   49.936615    49.777581   48.263851   50.952072      No\n",
            "1    4.987185    7.891003     6.588986    9.493161    3.240262      No\n",
            "2    4.987185    4.891003     7.308986    8.373161    2.780262      No\n",
            "3  106.388821  104.454032   103.051485  106.282658  105.536843      No\n",
            "4  104.388821  103.744032   103.051485  106.132658  105.776843      No\n"
          ]
        }
      ]
    },
    {
      "cell_type": "code",
      "source": [
        "#describe()\n",
        "print(train_df.head())\n",
        "print(test_df.head())"
      ],
      "metadata": {
        "colab": {
          "base_uri": "https://localhost:8080/"
        },
        "id": "_eNNCZmb2oQ-",
        "outputId": "d0692b30-4bf2-4ad9-ec5c-5b0029599cb4"
      },
      "execution_count": 26,
      "outputs": [
        {
          "output_type": "stream",
          "name": "stdout",
          "text": [
            "      OilQual  EnginePerf  NormMileage    TyreWear    HVACwear Service\n",
            "0  103.388821  103.504032   103.051485  106.172658  105.686843      No\n",
            "1   26.765516   26.188265    31.259536   29.186162   31.311275     Yes\n",
            "2   62.413282   63.681061    59.720883   64.704031   58.620518     Yes\n",
            "3   45.533338   49.906615    48.777581   48.113851   47.952072      No\n",
            "4  104.388821  103.284032   103.051485  105.822658  106.536843      No\n",
            "      OilQual  EnginePerf  NormMileage    TyreWear    HVACwear Service\n",
            "0   45.773338   49.936615    49.777581   48.263851   50.952072      No\n",
            "1    4.987185    7.891003     6.588986    9.493161    3.240262      No\n",
            "2    4.987185    4.891003     7.308986    8.373161    2.780262      No\n",
            "3  106.388821  104.454032   103.051485  106.282658  105.536843      No\n",
            "4  104.388821  103.744032   103.051485  106.132658  105.776843      No\n"
          ]
        }
      ]
    },
    {
      "cell_type": "code",
      "source": [
        "#info()\n",
        "print(train_df.info)\n",
        "print(test_df.info)"
      ],
      "metadata": {
        "colab": {
          "base_uri": "https://localhost:8080/"
        },
        "id": "WC6u0JuQ2tVX",
        "outputId": "2c1fe737-da47-4bb8-b308-8d6bdfcd9167"
      },
      "execution_count": 27,
      "outputs": [
        {
          "output_type": "stream",
          "name": "stdout",
          "text": [
            "<bound method DataFrame.info of         OilQual  EnginePerf  NormMileage    TyreWear    HVACwear Service\n",
            "0    103.388821  103.504032   103.051485  106.172658  105.686843      No\n",
            "1     26.765516   26.188265    31.259536   29.186162   31.311275     Yes\n",
            "2     62.413282   63.681061    59.720883   64.704031   58.620518     Yes\n",
            "3     45.533338   49.906615    48.777581   48.113851   47.952072      No\n",
            "4    104.388821  103.284032   103.051485  105.822658  106.536843      No\n",
            "..          ...         ...          ...         ...         ...     ...\n",
            "310  105.168821  103.744032   103.051485  107.172658  104.856843      No\n",
            "311  104.388821  105.744032   103.051485  105.782658  104.196843      No\n",
            "312   63.823282   62.741061    59.720883   61.654031   62.620518     Yes\n",
            "313   26.535516   27.418265    31.259536   27.486162   33.311275     Yes\n",
            "314   26.215516   26.338265    31.259536   27.036162   31.311275     Yes\n",
            "\n",
            "[315 rows x 6 columns]>\n",
            "<bound method DataFrame.info of         OilQual  EnginePerf  NormMileage    TyreWear    HVACwear Service\n",
            "0     45.773338   49.936615    49.777581   48.263851   50.952072      No\n",
            "1      4.987185    7.891003     6.588986    9.493161    3.240262      No\n",
            "2      4.987185    4.891003     7.308986    8.373161    2.780262      No\n",
            "3    106.388821  104.454032   103.051485  106.282658  105.536843      No\n",
            "4    104.388821  103.744032   103.051485  106.132658  105.776843      No\n",
            "..          ...         ...          ...         ...         ...     ...\n",
            "130  103.388821  103.934032   102.941485  106.172658  105.536843      No\n",
            "131    5.987185    6.081003     6.588986    8.373161    0.370262      No\n",
            "132   25.385516   27.418265    32.309536   30.036162   31.311275     Yes\n",
            "133   45.533338   49.666615    49.347581   51.263851   47.922072      No\n",
            "134  104.388821  104.504032   102.461485  106.172658  105.536843      No\n",
            "\n",
            "[135 rows x 6 columns]>\n"
          ]
        }
      ]
    },
    {
      "cell_type": "code",
      "source": [
        "print(train_df.dtypes)\n",
        "print(test_df.dtypes)"
      ],
      "metadata": {
        "colab": {
          "base_uri": "https://localhost:8080/"
        },
        "id": "eY35yXDZ27Qw",
        "outputId": "adc093cb-d425-4966-c6e6-31e4b1f5d2b8"
      },
      "execution_count": 28,
      "outputs": [
        {
          "output_type": "stream",
          "name": "stdout",
          "text": [
            "OilQual        float64\n",
            "EnginePerf     float64\n",
            "NormMileage    float64\n",
            "TyreWear       float64\n",
            "HVACwear       float64\n",
            "Service         object\n",
            "dtype: object\n",
            "OilQual        float64\n",
            "EnginePerf     float64\n",
            "NormMileage    float64\n",
            "TyreWear       float64\n",
            "HVACwear       float64\n",
            "Service         object\n",
            "dtype: object\n"
          ]
        }
      ]
    },
    {
      "cell_type": "code",
      "source": [
        "# Check for missing values in the data\n",
        "print(train_df.isnull().sum())"
      ],
      "metadata": {
        "colab": {
          "base_uri": "https://localhost:8080/"
        },
        "id": "UC5FFnWz3mHB",
        "outputId": "a17f689c-b5ba-4994-e7dc-bb8f62afc5f5"
      },
      "execution_count": 29,
      "outputs": [
        {
          "output_type": "stream",
          "name": "stdout",
          "text": [
            "OilQual        0\n",
            "EnginePerf     0\n",
            "NormMileage    0\n",
            "TyreWear       0\n",
            "HVACwear       0\n",
            "Service        0\n",
            "dtype: int64\n"
          ]
        }
      ]
    },
    {
      "cell_type": "code",
      "source": [
        "# Check for missing values in the data\n",
        "print(test_df.isnull().sum())"
      ],
      "metadata": {
        "colab": {
          "base_uri": "https://localhost:8080/"
        },
        "id": "bc3nwqsl3tIb",
        "outputId": "2b990f14-299c-4537-a135-83f4df587c33"
      },
      "execution_count": 30,
      "outputs": [
        {
          "output_type": "stream",
          "name": "stdout",
          "text": [
            "OilQual        0\n",
            "EnginePerf     0\n",
            "NormMileage    0\n",
            "TyreWear       0\n",
            "HVACwear       0\n",
            "Service        0\n",
            "dtype: int64\n"
          ]
        }
      ]
    },
    {
      "cell_type": "code",
      "source": [
        "# Summary statistics of numerical columns\n",
        "print(train_df.describe())"
      ],
      "metadata": {
        "colab": {
          "base_uri": "https://localhost:8080/"
        },
        "id": "q6Ru9OtM3wUf",
        "outputId": "ff26507f-1e3a-45c5-9e9f-e9fabee29c42"
      },
      "execution_count": 31,
      "outputs": [
        {
          "output_type": "stream",
          "name": "stdout",
          "text": [
            "          OilQual  EnginePerf  NormMileage    TyreWear    HVACwear\n",
            "count  315.000000  315.000000   315.000000  315.000000  315.000000\n",
            "mean    59.649297   60.305574    60.297214   61.758983   60.394734\n",
            "std     37.702113   37.143496    35.980773   37.063963   38.571413\n",
            "min      0.987185    1.891003     3.358986    6.213161   -1.719738\n",
            "25%     26.765516   27.418265    31.259536   29.036162   31.336275\n",
            "50%     59.663282   59.741061    57.220883   60.304031   60.620518\n",
            "75%    104.388821  103.744032   103.051485  106.172658  105.536843\n",
            "max    106.428821  105.744032   105.051485  108.172658  107.536843\n"
          ]
        }
      ]
    },
    {
      "cell_type": "code",
      "source": [
        "# Summary statistics of numerical columns\n",
        "print(test_df.describe())"
      ],
      "metadata": {
        "colab": {
          "base_uri": "https://localhost:8080/"
        },
        "id": "euuOrG0y3367",
        "outputId": "a21589cb-a595-4f52-edbe-093e863f473d"
      },
      "execution_count": 32,
      "outputs": [
        {
          "output_type": "stream",
          "name": "stdout",
          "text": [
            "          OilQual  EnginePerf  NormMileage    TyreWear    HVACwear\n",
            "count  135.000000  135.000000   135.000000  135.000000  135.000000\n",
            "mean    58.629380   59.077366    59.118254   60.863823   58.986136\n",
            "std     38.858638   38.603943    37.461473   38.445306   40.000363\n",
            "min      2.597185    1.891003     3.588986    6.143161   -1.719738\n",
            "25%     26.695516   27.418265    31.259536   28.901162   31.311275\n",
            "50%     61.023282   61.501061    59.350883   61.304031   62.620518\n",
            "75%    104.228821  103.744032   103.051485  106.172658  105.331843\n",
            "max    106.388821  105.744032   105.051485  108.172658  105.826843\n"
          ]
        }
      ]
    },
    {
      "cell_type": "code",
      "source": [
        "import pandas as pd\n",
        "from sklearn.preprocessing import LabelEncoder\n",
        "from sklearn.model_selection import train_test_split"
      ],
      "metadata": {
        "id": "AX5UB2wX4A0x"
      },
      "execution_count": 34,
      "outputs": []
    },
    {
      "cell_type": "code",
      "source": [
        "# encode the categorical variable 'Service'\n",
        "le = LabelEncoder()\n",
        "train_df['Service'] = le.fit_transform(train_df['Service'])\n",
        "test_df['Service'] = le.transform(test_df['Service'])\n",
        "\n"
      ],
      "metadata": {
        "id": "DxhuQDZ346RA"
      },
      "execution_count": 36,
      "outputs": []
    },
    {
      "cell_type": "code",
      "source": [
        "# split the train dataset into features and target\n",
        "X_train = train_df.drop('Service', axis=1)\n",
        "y_train = train_df['Service']\n",
        "\n"
      ],
      "metadata": {
        "id": "YrBLEPGu4_GX"
      },
      "execution_count": 41,
      "outputs": []
    },
    {
      "cell_type": "code",
      "source": [
        "# split the test dataset into features and target\n",
        "X_test = test_df.drop('Service', axis=1)\n",
        "y_test = test_df['Service']\n"
      ],
      "metadata": {
        "id": "Hfm-jxxn5A2a"
      },
      "execution_count": 42,
      "outputs": []
    },
    {
      "cell_type": "code",
      "source": [
        "# set random_state for the instance of the logistic regression class as 0\n",
        "X_train, X_val, y_train, y_val = train_test_split(X_train, y_train, random_state=0)"
      ],
      "metadata": {
        "id": "ljL5kNlA5CL1"
      },
      "execution_count": 43,
      "outputs": []
    },
    {
      "cell_type": "code",
      "source": [],
      "metadata": {
        "id": "IxGlL_C86uan"
      },
      "execution_count": null,
      "outputs": []
    },
    {
      "cell_type": "markdown",
      "source": [
        "# **`Logistic Regression `**"
      ],
      "metadata": {
        "id": "BpLy51x7UZrG"
      }
    },
    {
      "cell_type": "code",
      "execution_count": 45,
      "metadata": {
        "id": "37f01de7"
      },
      "outputs": [],
      "source": [
        "from sklearn.linear_model import LogisticRegression\n",
        "from sklearn import metrics"
      ]
    },
    {
      "cell_type": "code",
      "execution_count": 46,
      "metadata": {
        "colab": {
          "base_uri": "https://localhost:8080/"
        },
        "id": "9d0a4249",
        "outputId": "d55db8d0-d964-4e45-bd88-f86d4d15fac5"
      },
      "outputs": [
        {
          "output_type": "execute_result",
          "data": {
            "text/plain": [
              "LogisticRegression()"
            ]
          },
          "metadata": {},
          "execution_count": 46
        }
      ],
      "source": [
        "logreg = LogisticRegression()\n",
        "logreg.fit(X_train, y_train)"
      ]
    },
    {
      "cell_type": "code",
      "execution_count": 47,
      "metadata": {
        "colab": {
          "base_uri": "https://localhost:8080/"
        },
        "id": "01eb874a",
        "outputId": "ac8c7c92-b64a-4402-d9d5-26e6b83dd9a2"
      },
      "outputs": [
        {
          "output_type": "stream",
          "name": "stdout",
          "text": [
            "Accuracy of logistic regression classifier on test set: 0.91\n"
          ]
        }
      ],
      "source": [
        "y_pred = logreg.predict(X_test)\n",
        "print('Accuracy of logistic regression classifier on test set: {:.2f}'.format(logreg.score(X_test, y_test)))"
      ]
    },
    {
      "cell_type": "markdown",
      "source": [
        "The accuracy of a logistic regression classifier is a measure of its ability to predict the correct class for a given input. A accuracy of 0.91 on a test set means that the classifier correctly predicted the class for 91% of the examples in the test set.\n",
        "\n",
        "It is important to note that accuracy alone is not always the best measure of a classifier's performance, especially when the class distribution is imbalanced, or when some classes are more important than others. In such cases, other metrics such as precision, recall, F1-score, and area under the receiver operating characteristic (ROC) curve, may be more appropriate.In this the data is not imbalanced.\n",
        "\n",
        "Additionally, it is important to consider whether the results on the test set are representative of the performance on unseen data. It's always a good idea to evaluate the performance of a model on a held-out validation set or using cross-validation to get a better estimate of its performance."
      ],
      "metadata": {
        "id": "VoNXtNwuBqg3"
      }
    },
    {
      "cell_type": "markdown",
      "source": [
        "# **confusion matrix**"
      ],
      "metadata": {
        "id": "zapsNf7UUk_G"
      }
    },
    {
      "cell_type": "code",
      "execution_count": 48,
      "metadata": {
        "colab": {
          "base_uri": "https://localhost:8080/"
        },
        "id": "68de83a0",
        "outputId": "99444b99-a63e-4efe-855c-db70a422f822"
      },
      "outputs": [
        {
          "output_type": "stream",
          "name": "stdout",
          "text": [
            "[[94  5]\n",
            " [ 7 29]]\n",
            "              precision    recall  f1-score   support\n",
            "\n",
            "           0       0.93      0.95      0.94        99\n",
            "           1       0.85      0.81      0.83        36\n",
            "\n",
            "    accuracy                           0.91       135\n",
            "   macro avg       0.89      0.88      0.88       135\n",
            "weighted avg       0.91      0.91      0.91       135\n",
            "\n"
          ]
        }
      ],
      "source": [
        "from sklearn.metrics import confusion_matrix\n",
        "confusion_matrix = confusion_matrix(y_test, y_pred)\n",
        "print(confusion_matrix)\n",
        "\n",
        "from sklearn.metrics import classification_report\n",
        "print(classification_report(y_test, y_pred))"
      ]
    },
    {
      "cell_type": "markdown",
      "source": [
        "The entries in the matrix can be interpreted as follows:\n",
        "\n",
        "\n",
        "94 represents the number of True Positives (TP), where the model correctly predicted the positive class.\n",
        "\n",
        "5 represents the number of False Positives (FP), where the model predicted the positive class but it was actually negative.\n",
        "\n",
        "7 represents the number of False Negatives (FN), where the model predicted the negative class but it was actually positive.\n",
        "\n",
        "29 represents the number of True Negatives (TN), where the model correctly predicted the negative class."
      ],
      "metadata": {
        "id": "9EYFTzGp8td4"
      }
    },
    {
      "cell_type": "markdown",
      "source": [
        "Based on the above evaluation metrics, the model's performance seems to be good, but not excellent.\n",
        "\n",
        "The precision for class 0 is 0.93, which means that the model is able to identify 93% of the cars that don't require service correctly. The recall for class 0 is 0.95, which means that the model is able to find 95% of the cars that don't require service in the data set. The f1-score for class 0 is 0.94, which is a weighted average of precision and recall, and provides a good overall measure of the model's performance.\n",
        "\n",
        "The precision for class 1 is 0.85, which means that the model is able to identify 85% of the cars that require service correctly. The recall for class 1 is 0.81, which means that the model is able to find 81% of the cars that require service in the data set. The f1-score for class 1 is 0.83, which is a weighted average of precision and recall, and provides a good overall measure of the model's performance.\n",
        "\n",
        "The overall accuracy of the model is 0.91, which means that the model is able to predict the class of the cars correctly 91% of the time.\n",
        "\n",
        "Although the performance of the model seems to be good, it can be further improved by performing feature engineering and hyperparameter tuning."
      ],
      "metadata": {
        "id": "2zAWBrHs-jQ7"
      }
    },
    {
      "cell_type": "code",
      "source": [],
      "metadata": {
        "id": "iS419JKw8RF3"
      },
      "execution_count": null,
      "outputs": []
    },
    {
      "cell_type": "markdown",
      "source": [
        "# **DecisionTreeClassifier**"
      ],
      "metadata": {
        "id": "kyAQ4JdOUxxU"
      }
    },
    {
      "cell_type": "code",
      "execution_count": 49,
      "metadata": {
        "id": "463c9a96"
      },
      "outputs": [],
      "source": [
        "import numpy as np\n",
        "from sklearn.model_selection import train_test_split\n",
        "from sklearn.tree import DecisionTreeClassifier\n",
        "from sklearn.inspection import permutation_importance\n",
        "from matplotlib import pyplot as plt\n",
        "from sklearn.model_selection import GridSearchCV"
      ]
    },
    {
      "cell_type": "code",
      "execution_count": 50,
      "metadata": {
        "colab": {
          "base_uri": "https://localhost:8080/"
        },
        "id": "f3385593",
        "outputId": "4ce0fd00-3038-4626-9556-fcc1fc6a1465"
      },
      "outputs": [
        {
          "output_type": "stream",
          "name": "stdout",
          "text": [
            "Fitting 10 folds for each of 72 candidates, totalling 720 fits\n"
          ]
        },
        {
          "output_type": "stream",
          "name": "stderr",
          "text": [
            "/usr/local/lib/python3.8/dist-packages/sklearn/model_selection/_validation.py:372: FitFailedWarning: \n",
            "400 fits failed out of a total of 720.\n",
            "The score on these train-test partitions for these parameters will be set to nan.\n",
            "If these failures are not expected, you can try to debug them by setting error_score='raise'.\n",
            "\n",
            "Below are more details about the failures:\n",
            "--------------------------------------------------------------------------------\n",
            "240 fits failed with the following error:\n",
            "Traceback (most recent call last):\n",
            "  File \"/usr/local/lib/python3.8/dist-packages/sklearn/model_selection/_validation.py\", line 680, in _fit_and_score\n",
            "    estimator.fit(X_train, y_train, **fit_params)\n",
            "  File \"/usr/local/lib/python3.8/dist-packages/sklearn/tree/_classes.py\", line 937, in fit\n",
            "    super().fit(\n",
            "  File \"/usr/local/lib/python3.8/dist-packages/sklearn/tree/_classes.py\", line 250, in fit\n",
            "    raise ValueError(\n",
            "ValueError: min_samples_split must be an integer greater than 1 or a float in (0.0, 1.0]; got the integer 1\n",
            "\n",
            "--------------------------------------------------------------------------------\n",
            "160 fits failed with the following error:\n",
            "Traceback (most recent call last):\n",
            "  File \"/usr/local/lib/python3.8/dist-packages/sklearn/model_selection/_validation.py\", line 680, in _fit_and_score\n",
            "    estimator.fit(X_train, y_train, **fit_params)\n",
            "  File \"/usr/local/lib/python3.8/dist-packages/sklearn/tree/_classes.py\", line 937, in fit\n",
            "    super().fit(\n",
            "  File \"/usr/local/lib/python3.8/dist-packages/sklearn/tree/_classes.py\", line 352, in fit\n",
            "    criterion = CRITERIA_CLF[self.criterion](\n",
            "KeyError: 'log_loss'\n",
            "\n",
            "  warnings.warn(some_fits_failed_message, FitFailedWarning)\n",
            "/usr/local/lib/python3.8/dist-packages/sklearn/model_selection/_search.py:969: UserWarning: One or more of the test scores are non-finite: [nan  1.  1. nan  1.  1. nan  1.  1. nan  1.  1. nan  1.  1. nan  1.  1.\n",
            " nan  1.  1. nan  1.  1. nan  1.  1. nan  1.  1. nan  1.  1. nan  1.  1.\n",
            " nan  1.  1. nan  1.  1. nan  1.  1. nan  1.  1. nan nan nan nan nan nan\n",
            " nan nan nan nan nan nan nan nan nan nan nan nan nan nan nan nan nan nan]\n",
            "  warnings.warn(\n"
          ]
        },
        {
          "output_type": "execute_result",
          "data": {
            "text/plain": [
              "{'criterion': 'gini', 'max_depth': 20, 'min_samples_split': 2}"
            ]
          },
          "metadata": {},
          "execution_count": 50
        }
      ],
      "source": [
        "## Configuring parameters and values for searched\n",
        "tuned_parameters = {'criterion': ['gini', 'entropy', 'log_loss'], 'max_depth': [20, 30, 40, 50, 60, 80, 90, 100], 'min_samples_split': [1, 2, 3]}\n",
        "\n",
        "\n",
        "\n",
        "dtree = GridSearchCV(DecisionTreeClassifier(),\n",
        "tuned_parameters,\n",
        "cv=10,\n",
        "scoring='accuracy',n_jobs = -1, verbose = 2)\n",
        "\n",
        "\n",
        "dtree.fit(X_train, y_train)\n",
        "dtree.best_params_\n",
        "\n"
      ]
    },
    {
      "cell_type": "code",
      "execution_count": 51,
      "metadata": {
        "colab": {
          "base_uri": "https://localhost:8080/"
        },
        "id": "c997c577",
        "outputId": "44715efd-2a90-41a3-8c2c-a45a09aeb3e3"
      },
      "outputs": [
        {
          "output_type": "stream",
          "name": "stdout",
          "text": [
            "Accuracy of Decison Tree classifier on test set: 1.00\n"
          ]
        }
      ],
      "source": [
        "y_pred = dtree.predict(X_test)\n",
        "print('Accuracy of Decison Tree classifier on test set: {:.2f}'.format(dtree.score(X_test, y_test)))"
      ]
    },
    {
      "cell_type": "markdown",
      "source": [
        "The accuracy of the Decision Tree classifier on the test set is 1.00, which means that the model is able to accurately predict the target variable 100% of the time. This is a very high accuracy and indicates that the model is likely to perform well on unseen data. However, it's important to keep in mind that having a high accuracy does not necessarily mean that the model is the best for this particular problem, as it may be overfitting to the training data. To better understand the performance of the model, it's recommended to also evaluate other metrics such as precision, recall, and F1 score, as well as the confusion matrix, to see how well the model is predicting positive and negative cases."
      ],
      "metadata": {
        "id": "ssRC9_6I-xwK"
      }
    }
  ]
}